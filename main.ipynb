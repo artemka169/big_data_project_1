{
 "cells": [
  {
   "cell_type": "code",
   "execution_count": 11,
   "metadata": {},
   "outputs": [],
   "source": [
    "import pandas as pd\n",
    "import matplotlib.pyplot as plt"
   ]
  },
  {
   "cell_type": "code",
   "execution_count": 5,
   "metadata": {},
   "outputs": [],
   "source": [
    "path = \"/Users/artemmoskovets/Downloads/project1-1/atlas.dta\"\n",
    "data = pd.read_stata(path)"
   ]
  },
  {
   "cell_type": "code",
   "execution_count": 6,
   "metadata": {},
   "outputs": [
    {
     "name": "stdout",
     "output_type": "stream",
     "text": [
      "<class 'pandas.core.frame.DataFrame'>\n",
      "Int64Index: 73278 entries, 0 to 73277\n",
      "Data columns (total 62 columns):\n",
      " #   Column                        Non-Null Count  Dtype  \n",
      "---  ------                        --------------  -----  \n",
      " 0   tract                         73278 non-null  int32  \n",
      " 1   county                        73278 non-null  float32\n",
      " 2   state                         73278 non-null  float32\n",
      " 3   cz                            72473 non-null  float64\n",
      " 4   czname                        73278 non-null  object \n",
      " 5   hhinc_mean2000                72302 non-null  float32\n",
      " 6   mean_commutetime2000          72313 non-null  float32\n",
      " 7   frac_coll_plus2010            72993 non-null  float32\n",
      " 8   frac_coll_plus2000            72343 non-null  float32\n",
      " 9   foreign_share2010             72279 non-null  float32\n",
      " 10  med_hhinc2016                 72763 non-null  float64\n",
      " 11  med_hhinc1990                 72313 non-null  float64\n",
      " 12  popdensity2000                72469 non-null  float32\n",
      " 13  poor_share2010                72933 non-null  float32\n",
      " 14  poor_share2000                72315 non-null  float32\n",
      " 15  poor_share1990                72323 non-null  float32\n",
      " 16  share_black2010               73111 non-null  float32\n",
      " 17  share_hisp2010                73111 non-null  float32\n",
      " 18  share_asian2010               71945 non-null  float32\n",
      " 19  share_black2000               72368 non-null  float32\n",
      " 20  share_white2000               72368 non-null  float32\n",
      " 21  share_hisp2000                72368 non-null  float32\n",
      " 22  share_asian2000               71050 non-null  float32\n",
      " 23  gsmn_math_g3_2013             72090 non-null  float32\n",
      " 24  rent_twobed2015               56607 non-null  float64\n",
      " 25  singleparent_share2010        72564 non-null  float32\n",
      " 26  singleparent_share1990        72196 non-null  float32\n",
      " 27  singleparent_share2000        72285 non-null  float32\n",
      " 28  traveltime15_2010             72939 non-null  float32\n",
      " 29  emp2000                       72344 non-null  float32\n",
      " 30  mail_return_rate2010          72547 non-null  float32\n",
      " 31  ln_wage_growth_hs_grad        51635 non-null  float32\n",
      " 32  jobs_total_5mi_2015           72311 non-null  float64\n",
      " 33  jobs_highpay_5mi_2015         72311 non-null  float64\n",
      " 34  nonwhite_share2010            73111 non-null  float32\n",
      " 35  popdensity2010                73194 non-null  float32\n",
      " 36  ann_avg_job_growth_2004_2013  70664 non-null  float32\n",
      " 37  job_density_2013              72463 non-null  float32\n",
      " 38  kfr_natam_p25                 1733 non-null   float32\n",
      " 39  kfr_natam_p75                 1728 non-null   float32\n",
      " 40  kfr_natam_p100                1594 non-null   float32\n",
      " 41  kfr_asian_p25                 15434 non-null  float32\n",
      " 42  kfr_asian_p75                 15360 non-null  float32\n",
      " 43  kfr_asian_p100                13480 non-null  float32\n",
      " 44  kfr_black_p25                 34086 non-null  float32\n",
      " 45  kfr_black_p75                 34049 non-null  float32\n",
      " 46  kfr_black_p100                32536 non-null  float32\n",
      " 47  kfr_hisp_p25                  37611 non-null  float32\n",
      " 48  kfr_hisp_p75                  37579 non-null  float32\n",
      " 49  kfr_hisp_p100                 35987 non-null  float32\n",
      " 50  kfr_pooled_p25                72011 non-null  float32\n",
      " 51  kfr_pooled_p75                72012 non-null  float32\n",
      " 52  kfr_pooled_p100               71968 non-null  float32\n",
      " 53  kfr_white_p25                 67978 non-null  float32\n",
      " 54  kfr_white_p75                 67968 non-null  float32\n",
      " 55  kfr_white_p100                67627 non-null  float32\n",
      " 56  count_pooled                  72451 non-null  float64\n",
      " 57  count_white                   72451 non-null  float64\n",
      " 58  count_black                   72451 non-null  float64\n",
      " 59  count_asian                   72451 non-null  float64\n",
      " 60  count_hisp                    72451 non-null  float64\n",
      " 61  count_natam                   72451 non-null  float64\n",
      "dtypes: float32(48), float64(12), int32(1), object(1)\n",
      "memory usage: 21.5+ MB\n"
     ]
    }
   ],
   "source": [
    "data.info()"
   ]
  },
  {
   "cell_type": "code",
   "execution_count": 7,
   "metadata": {},
   "outputs": [
    {
     "data": {
      "text/html": [
       "<div>\n",
       "<style scoped>\n",
       "    .dataframe tbody tr th:only-of-type {\n",
       "        vertical-align: middle;\n",
       "    }\n",
       "\n",
       "    .dataframe tbody tr th {\n",
       "        vertical-align: top;\n",
       "    }\n",
       "\n",
       "    .dataframe thead th {\n",
       "        text-align: right;\n",
       "    }\n",
       "</style>\n",
       "<table border=\"1\" class=\"dataframe\">\n",
       "  <thead>\n",
       "    <tr style=\"text-align: right;\">\n",
       "      <th></th>\n",
       "      <th>tract</th>\n",
       "      <th>county</th>\n",
       "      <th>state</th>\n",
       "      <th>cz</th>\n",
       "      <th>czname</th>\n",
       "      <th>hhinc_mean2000</th>\n",
       "      <th>mean_commutetime2000</th>\n",
       "      <th>frac_coll_plus2010</th>\n",
       "      <th>frac_coll_plus2000</th>\n",
       "      <th>foreign_share2010</th>\n",
       "      <th>...</th>\n",
       "      <th>kfr_pooled_p100</th>\n",
       "      <th>kfr_white_p25</th>\n",
       "      <th>kfr_white_p75</th>\n",
       "      <th>kfr_white_p100</th>\n",
       "      <th>count_pooled</th>\n",
       "      <th>count_white</th>\n",
       "      <th>count_black</th>\n",
       "      <th>count_asian</th>\n",
       "      <th>count_hisp</th>\n",
       "      <th>count_natam</th>\n",
       "    </tr>\n",
       "  </thead>\n",
       "  <tbody>\n",
       "    <tr>\n",
       "      <th>0</th>\n",
       "      <td>20100</td>\n",
       "      <td>1.0</td>\n",
       "      <td>1.0</td>\n",
       "      <td>11101.0</td>\n",
       "      <td>Montgomery</td>\n",
       "      <td>68638.726562</td>\n",
       "      <td>26.171911</td>\n",
       "      <td>0.254428</td>\n",
       "      <td>0.156479</td>\n",
       "      <td>0.009950</td>\n",
       "      <td>...</td>\n",
       "      <td>78921.500000</td>\n",
       "      <td>30327.947266</td>\n",
       "      <td>50820.144531</td>\n",
       "      <td>75126.031250</td>\n",
       "      <td>519.0</td>\n",
       "      <td>457.0</td>\n",
       "      <td>42.0</td>\n",
       "      <td>3.0</td>\n",
       "      <td>4.0</td>\n",
       "      <td>6.0</td>\n",
       "    </tr>\n",
       "    <tr>\n",
       "      <th>1</th>\n",
       "      <td>20200</td>\n",
       "      <td>1.0</td>\n",
       "      <td>1.0</td>\n",
       "      <td>11101.0</td>\n",
       "      <td>Montgomery</td>\n",
       "      <td>57242.511719</td>\n",
       "      <td>24.806705</td>\n",
       "      <td>0.267194</td>\n",
       "      <td>0.146932</td>\n",
       "      <td>0.016337</td>\n",
       "      <td>...</td>\n",
       "      <td>74225.367188</td>\n",
       "      <td>42188.812500</td>\n",
       "      <td>54239.121094</td>\n",
       "      <td>66645.695312</td>\n",
       "      <td>530.0</td>\n",
       "      <td>173.0</td>\n",
       "      <td>336.0</td>\n",
       "      <td>1.0</td>\n",
       "      <td>5.0</td>\n",
       "      <td>1.0</td>\n",
       "    </tr>\n",
       "    <tr>\n",
       "      <th>2</th>\n",
       "      <td>20300</td>\n",
       "      <td>1.0</td>\n",
       "      <td>1.0</td>\n",
       "      <td>11101.0</td>\n",
       "      <td>Montgomery</td>\n",
       "      <td>75647.726562</td>\n",
       "      <td>25.322525</td>\n",
       "      <td>0.164159</td>\n",
       "      <td>0.224413</td>\n",
       "      <td>0.027096</td>\n",
       "      <td>...</td>\n",
       "      <td>76055.359375</td>\n",
       "      <td>33670.453125</td>\n",
       "      <td>51579.382812</td>\n",
       "      <td>71990.968750</td>\n",
       "      <td>960.0</td>\n",
       "      <td>774.0</td>\n",
       "      <td>151.0</td>\n",
       "      <td>1.0</td>\n",
       "      <td>21.0</td>\n",
       "      <td>2.0</td>\n",
       "    </tr>\n",
       "    <tr>\n",
       "      <th>3</th>\n",
       "      <td>20400</td>\n",
       "      <td>1.0</td>\n",
       "      <td>1.0</td>\n",
       "      <td>11101.0</td>\n",
       "      <td>Montgomery</td>\n",
       "      <td>74852.054688</td>\n",
       "      <td>22.965347</td>\n",
       "      <td>0.252744</td>\n",
       "      <td>0.230469</td>\n",
       "      <td>0.015083</td>\n",
       "      <td>...</td>\n",
       "      <td>72586.476562</td>\n",
       "      <td>34181.050781</td>\n",
       "      <td>52847.863281</td>\n",
       "      <td>74330.250000</td>\n",
       "      <td>1123.0</td>\n",
       "      <td>1033.0</td>\n",
       "      <td>40.0</td>\n",
       "      <td>6.0</td>\n",
       "      <td>37.0</td>\n",
       "      <td>0.0</td>\n",
       "    </tr>\n",
       "    <tr>\n",
       "      <th>4</th>\n",
       "      <td>20500</td>\n",
       "      <td>1.0</td>\n",
       "      <td>1.0</td>\n",
       "      <td>11101.0</td>\n",
       "      <td>Montgomery</td>\n",
       "      <td>96174.765625</td>\n",
       "      <td>26.222353</td>\n",
       "      <td>0.375063</td>\n",
       "      <td>0.321154</td>\n",
       "      <td>0.046488</td>\n",
       "      <td>...</td>\n",
       "      <td>81792.414062</td>\n",
       "      <td>39540.148438</td>\n",
       "      <td>58699.035156</td>\n",
       "      <td>80415.093750</td>\n",
       "      <td>1867.0</td>\n",
       "      <td>1626.0</td>\n",
       "      <td>137.0</td>\n",
       "      <td>13.0</td>\n",
       "      <td>39.0</td>\n",
       "      <td>8.0</td>\n",
       "    </tr>\n",
       "  </tbody>\n",
       "</table>\n",
       "<p>5 rows × 62 columns</p>\n",
       "</div>"
      ],
      "text/plain": [
       "   tract  county  state       cz      czname  hhinc_mean2000  \\\n",
       "0  20100     1.0    1.0  11101.0  Montgomery    68638.726562   \n",
       "1  20200     1.0    1.0  11101.0  Montgomery    57242.511719   \n",
       "2  20300     1.0    1.0  11101.0  Montgomery    75647.726562   \n",
       "3  20400     1.0    1.0  11101.0  Montgomery    74852.054688   \n",
       "4  20500     1.0    1.0  11101.0  Montgomery    96174.765625   \n",
       "\n",
       "   mean_commutetime2000  frac_coll_plus2010  frac_coll_plus2000  \\\n",
       "0             26.171911            0.254428            0.156479   \n",
       "1             24.806705            0.267194            0.146932   \n",
       "2             25.322525            0.164159            0.224413   \n",
       "3             22.965347            0.252744            0.230469   \n",
       "4             26.222353            0.375063            0.321154   \n",
       "\n",
       "   foreign_share2010  ...  kfr_pooled_p100  kfr_white_p25  kfr_white_p75  \\\n",
       "0           0.009950  ...     78921.500000   30327.947266   50820.144531   \n",
       "1           0.016337  ...     74225.367188   42188.812500   54239.121094   \n",
       "2           0.027096  ...     76055.359375   33670.453125   51579.382812   \n",
       "3           0.015083  ...     72586.476562   34181.050781   52847.863281   \n",
       "4           0.046488  ...     81792.414062   39540.148438   58699.035156   \n",
       "\n",
       "   kfr_white_p100  count_pooled  count_white  count_black  count_asian  \\\n",
       "0    75126.031250         519.0        457.0         42.0          3.0   \n",
       "1    66645.695312         530.0        173.0        336.0          1.0   \n",
       "2    71990.968750         960.0        774.0        151.0          1.0   \n",
       "3    74330.250000        1123.0       1033.0         40.0          6.0   \n",
       "4    80415.093750        1867.0       1626.0        137.0         13.0   \n",
       "\n",
       "   count_hisp  count_natam  \n",
       "0         4.0          6.0  \n",
       "1         5.0          1.0  \n",
       "2        21.0          2.0  \n",
       "3        37.0          0.0  \n",
       "4        39.0          8.0  \n",
       "\n",
       "[5 rows x 62 columns]"
      ]
     },
     "execution_count": 7,
     "metadata": {},
     "output_type": "execute_result"
    }
   ],
   "source": [
    "data.head(5)"
   ]
  },
  {
   "cell_type": "code",
   "execution_count": 8,
   "metadata": {},
   "outputs": [],
   "source": [
    "# I've decided to work with tract 06075032700.\n",
    "# The first two digits refer to the state code\n",
    "# Next three digits refer to the county code \n",
    "# Last 6 digits refer to the tract code."
   ]
  },
  {
   "cell_type": "code",
   "execution_count": 13,
   "metadata": {},
   "outputs": [
    {
     "data": {
      "text/plain": [
       "(array([8.000e+00, 2.020e+02, 1.888e+03, 2.277e+03, 4.460e+02, 7.200e+01,\n",
       "        2.000e+01, 3.000e+00, 2.000e+00, 1.000e+00]),\n",
       " array([     0.       ,  16807.8671875,  33615.734375 ,  50423.6015625,\n",
       "         67231.46875  ,  84039.3359375, 100847.203125 , 117655.0703125,\n",
       "        134462.9375   , 151270.8125   , 168078.671875 ]),\n",
       " <BarContainer object of 10 artists>)"
      ]
     },
     "execution_count": 13,
     "metadata": {},
     "output_type": "execute_result"
    },
    {
     "data": {
      "image/png": "[encoded data removed]",
      "text/plain": [
       "<Figure size 432x288 with 1 Axes>"
      ]
     },
     "metadata": {
      "needs_background": "light"
     },
     "output_type": "display_data"
    }
   ],
   "source": [
    "# QUESTION 3\n",
    "\n",
    "current_tract_number = \"06075021700\"\n",
    "data_current_tract = data[(data['state'] == 6.0)\n",
    "                        & (data['county'] == 75.0) \n",
    "                          & (data['tract'] == 21700)]\n",
    "\n",
    "# p25 in general in the home tract\n",
    "kfr_pooled_p25_home = data_current_tract[\"kfr_pooled_p25\"].iloc[0]\n",
    "# p25 of native americans in the home tract\n",
    "kfr_natam_p25_home = data_current_tract[\"kfr_natam_p25\"].iloc[0]\n",
    "# p25 of asian in the home tract\n",
    "kfr_asian_p25_home = data_current_tract[\"kfr_asian_p25\"].iloc[0]\n",
    "# p25 of black in the home tract\n",
    "kfr_black_p25_home = data_current_tract[\"kfr_black_p25\"].iloc[0]\n",
    "# p25 of hispanic in the home tract\n",
    "kfr_hisp_p25_home = data_current_tract[\"kfr_hisp_p25\"].iloc[0]\n",
    "# p25 of white in the home tract\n",
    "kfr_white_p25_home = data_current_tract[\"kfr_white_p25\"].iloc[0]\n",
    "\n",
    "races_p25 = [kfr_white_p25_home, kfr_black_p25_home, kfr_hisp_p25_home, kfr_asian_p25_home]\n",
    "tags = [\"p25_white\", \"p25_black\", \"p25_hisp\", \"p25_asian\"]\n",
    "\n",
    "fig, ax = plt.subplots()\n",
    "ax.bar(tags, races_p25, color=\"purple\")\n",
    "plt.title('Avarage annual salary in tract 06075032700')\n",
    "plt.hlines(y=kfr_pooled_p25_home, xmin=-1,\n",
    "           xmax=4, color='r', linestyle='--')\n",
    "plt.ylabel('dollars, annual')\n",
    "\n",
    "# how can I calculate the upward mobility with data abount entire tracts, but not the individuaals?????? \n",
    "\n",
    "\n",
    "# let's try to do somethong here\n"
   ]
  },
  {
   "cell_type": "code",
   "execution_count": 10,
   "metadata": {},
   "outputs": [],
   "source": [
    "# QUESTION 6"
   ]
  },
  {
   "cell_type": "code",
   "execution_count": 14,
   "metadata": {},
   "outputs": [
    {
     "data": {
      "text/plain": [
       "(array([8.000e+00, 2.020e+02, 1.888e+03, 2.277e+03, 4.460e+02, 7.200e+01,\n",
       "        2.000e+01, 3.000e+00, 2.000e+00, 1.000e+00]),\n",
       " array([     0.       ,  16807.8671875,  33615.734375 ,  50423.6015625,\n",
       "         67231.46875  ,  84039.3359375, 100847.203125 , 117655.0703125,\n",
       "        134462.9375   , 151270.8125   , 168078.671875 ]),\n",
       " <BarContainer object of 10 artists>)"
      ]
     },
     "execution_count": 14,
     "metadata": {},
     "output_type": "execute_result"
    },
    {
     "data": {
      "image/png": "[encoded data removed]",
      "text/plain": [
       "<Figure size 432x288 with 1 Axes>"
      ]
     },
     "metadata": {
      "needs_background": "light"
     },
     "output_type": "display_data"
    }
   ],
   "source": [
    "data_state = data[data[\"state\"] == 6.0]\n",
    "plt.hist(data_state['kfr_asian_p25'])"
   ]
  },
  {
   "cell_type": "code",
   "execution_count": null,
   "metadata": {},
   "outputs": [],
   "source": []
  }
 ],
 "metadata": {
  "kernelspec": {
   "display_name": "firstEnv",
   "language": "python",
   "name": "firstenv"
  },
  "language_info": {
   "codemirror_mode": {
    "name": "ipython",
    "version": 3
   },
   "file_extension": ".py",
   "mimetype": "text/x-python",
   "name": "python",
   "nbconvert_exporter": "python",
   "pygments_lexer": "ipython3",
   "version": "3.10.6"
  },
  "toc-autonumbering": true,
  "vscode": {
   "interpreter": {
    "hash": "fd9c06f7f38623f95d89d5edf0aec514b6605d79d78e96426edc6affd1b769dd"
   }
  }
 },
 "nbformat": 4,
 "nbformat_minor": 4
}
